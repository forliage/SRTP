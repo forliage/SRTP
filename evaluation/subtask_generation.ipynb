{
 "cells": [
  {
   "cell_type": "code",
   "execution_count": 5,
   "metadata": {},
   "outputs": [
    {
     "name": "stdout",
     "output_type": "stream",
     "text": [
      "2f3f03f1-8154-4768-8209-10098044e97d\n"
     ]
    }
   ],
   "source": [
    "import json\n",
    "import uuid\n",
    "import os\n",
    "\n",
    "def generate_json_files(instruction, related_app, parameter, input_list, output_list, output_dir):\n",
    "    os.makedirs(output_dir, exist_ok=True)  # 创建输出目录，如果不存在的话\n",
    "\n",
    "    unique_id = str(uuid.uuid4())\n",
    "    print(unique_id)\n",
    "    json_content = {\n",
    "        \"id\": unique_id,\n",
    "        \"instruction\": instruction,\n",
    "        \"related_app\": related_app,\n",
    "        \"parameter\": parameter,\n",
    "        \"OS\": \"Windows\",\n",
    "        \"input\": input_list,\n",
    "        \"output\": output_list\n",
    "    }\n",
    "\n",
    "    file_path = os.path.join(output_dir, f\"{unique_id}.json\")\n",
    "    with open(file_path, 'w', encoding='utf-8') as json_file:\n",
    "        json.dump(json_content, json_file, ensure_ascii=False, indent=4)\n",
    "\n",
    "# # 示例调用\n",
    "# instruction = \"Open the image '{img_path}', click the crop button to toggle the UI and then rotate the image to the right.\"\n",
    "# parameter = {\n",
    "#     \"img_path\": \"C:\\\\Users\\\\user\\\\Desktop\\\\image\\\\envelope.png\"\n",
    "# }\n",
    "# input_list = [\"img_path\"]\n",
    "# output_list = [\"img_in_ps\"]\n",
    "\n",
    "# related_app = \"Adobe Photoshop Express\"\n",
    "# output_dir = \"./subtasks2/Adobe Photoshop Express\"\n",
    "\n",
    "# Open the note titled '{note_title}' and replace the content with the text from the clipboard.\n",
    "# 示例调用\n",
    "t =  \\\n",
    "    {\n",
    "        \"instruction\": \"Search for the artist '{artist_name}' and copy share link.\",\n",
    "        \"required_resources\": [\n",
    "            \"null\"\n",
    "        ],\n",
    "        \"produced_resources\": [\n",
    "            \"text_in_clipboard\",\n",
    "            \"artist_link_in_clipboard\"\n",
    "        ],\n",
    "        \"parameter_examples\": {\n",
    "            \"artist_name\": \"Linkin Park\"\n",
    "        },\n",
    "        \"path\": \"C:/Users/brindle/Desktop/logs_exploration//09db7305-8447-4e0e-ae66-5816420786d2/\"\n",
    "    }\n",
    "instruction = t['instruction']\n",
    "parameter = t['parameter_examples']\n",
    "input_list = t['required_resources']\n",
    "output_list = t['produced_resources']\n",
    "\n",
    "related_app = \"Spotify\"\n",
    "output_dir = \"./subtasks2/Spotify\"\n",
    "\n",
    "generate_json_files(instruction, related_app, parameter, input_list, output_list, output_dir)\n"
   ]
  },
  {
   "cell_type": "code",
   "execution_count": 28,
   "metadata": {},
   "outputs": [
    {
     "name": "stdout",
     "output_type": "stream",
     "text": [
      "40d5ac97-1e8c-4e33-be31-e8df628ed501\n",
      "09c4abbd-f528-4ed4-899c-282988971d0d\n",
      "dae5b032-65e6-4db6-80a8-98471332c180\n",
      "8bb35e56-e8a1-41e0-8334-a8c924b7fdda\n",
      "164cd804-daf0-41b9-85d0-57bebbac34b5\n",
      "6b456ea9-6761-4ec8-8994-c796847c275f\n",
      "49e250a3-95ff-4798-b532-58e06416bc7d\n",
      "3dd12295-3668-4b26-ba85-923626431dff\n",
      "1aa4b642-e739-424c-b6b5-b1feffda7e8d\n",
      "7cbf9c3e-85f0-42d3-b1d2-350d3bedfced\n",
      "0a8b5968-4392-4d4b-be74-35f643b28e8a\n"
     ]
    }
   ],
   "source": [
    "import uuid\n",
    "for i in range(11):\n",
    "    print(str(uuid.uuid4()))"
   ]
  }
 ],
 "metadata": {
  "kernelspec": {
   "display_name": "compo-arena",
   "language": "python",
   "name": "python3"
  },
  "language_info": {
   "codemirror_mode": {
    "name": "ipython",
    "version": 3
   },
   "file_extension": ".py",
   "mimetype": "text/x-python",
   "name": "python",
   "nbconvert_exporter": "python",
   "pygments_lexer": "ipython3",
   "version": "3.10.11"
  }
 },
 "nbformat": 4,
 "nbformat_minor": 2
}
