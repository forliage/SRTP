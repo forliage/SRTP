{
 "cells": [
  {
   "cell_type": "code",
   "execution_count": 2,
   "metadata": {},
   "outputs": [
    {
     "name": "stdout",
     "output_type": "stream",
     "text": [
      "Successfully sampled and copied 100 files containing target applications to D:\\data\\test_tasks\n",
      "Total files containing target applications: 5455\n"
     ]
    }
   ],
   "source": [
    "import os\n",
    "import random\n",
    "import shutil\n",
    "import json\n",
    "\n",
    "# Set paths\n",
    "source_dir = r\"D:\\data\\[explicit_app]consistent_task_DAG_batch1\"\n",
    "target_dir = r\"D:\\data\\test_tasks\"\n",
    "\n",
    "# Create target directory if it doesn't exist\n",
    "os.makedirs(target_dir, exist_ok=True)\n",
    "\n",
    "# Define target applications\n",
    "target_apps = {\n",
    "    'Control Pane', 'Word', 'File Explorer', 'Excel', 'Microsoft Edge',\n",
    "    'Visual Studio Code', 'paint.net', 'PDF24', 'Notion', 'Google Chrome',\n",
    "    'PowerPoint', 'Microsoft To Do', 'Todoist'\n",
    "}\n",
    "\n",
    "# Load subtask data for app identification\n",
    "with open('D:/data/all_task.json', 'r') as f:\n",
    "    subtasks = json.load(f)\n",
    "    subtask_map = {subtask['id']: subtask for subtask in subtasks}\n",
    "\n",
    "# Get list of JSON files from source directory\n",
    "json_files = [f for f in os.listdir(source_dir) if f.endswith('.json')]\n",
    "\n",
    "# Filter files containing target applications\n",
    "filtered_files = []\n",
    "for file in json_files:\n",
    "    file_path = os.path.join(source_dir, file)\n",
    "    with open(file_path, 'r') as f:\n",
    "        data = json.load(f)\n",
    "        nodes = data['dag']['nodes']\n",
    "        \n",
    "        # Check if any node belongs to target applications\n",
    "        for node_id in nodes:\n",
    "            if node_id in subtask_map and 'application' in subtask_map[node_id]:\n",
    "                app = subtask_map[node_id]['application']\n",
    "                if app in target_apps:\n",
    "                    filtered_files.append(file)\n",
    "                    break\n",
    "\n",
    "# Sample from filtered files\n",
    "sample_size = min(100, len(filtered_files))\n",
    "sampled_files = random.sample(filtered_files, sample_size)\n",
    "\n",
    "# Copy sampled files to target directory\n",
    "for file in sampled_files:\n",
    "    src_path = os.path.join(source_dir, file)\n",
    "    dst_path = os.path.join(target_dir, file)\n",
    "    shutil.copy2(src_path, dst_path)\n",
    "\n",
    "print(f\"Successfully sampled and copied {sample_size} files containing target applications to {target_dir}\")\n",
    "print(f\"Total files containing target applications: {len(filtered_files)}\")\n"
   ]
  }
 ],
 "metadata": {
  "kernelspec": {
   "display_name": "compo-arena",
   "language": "python",
   "name": "python3"
  },
  "language_info": {
   "codemirror_mode": {
    "name": "ipython",
    "version": 3
   },
   "file_extension": ".py",
   "mimetype": "text/x-python",
   "name": "python",
   "nbconvert_exporter": "python",
   "pygments_lexer": "ipython3",
   "version": "3.10.11"
  }
 },
 "nbformat": 4,
 "nbformat_minor": 2
}
