{
 "cells": [
  {
   "cell_type": "code",
   "execution_count": null,
   "metadata": {},
   "outputs": [],
   "source": [
    "# 迭代过滤掉log_paths目录下所有文件夹中的采样轨迹中的图像，然后把文件夹拷贝到当前目录的新文件夹下\n",
    "import os\n",
    "import shutil\n",
    "\n",
    "log_paths = [\n",
    "    r\"D:\\data\\logs\",\n",
    "    r\"D:\\data\\logs_Notion\", \n",
    "    r\"D:\\data\\logs_Spotify\",\n",
    "    r\"D:\\data\\logs_Outlook (new)\",\n",
    "    r\"D:\\data\\logs_OBS Studio\",\n",
    "]\n",
    "\n",
    "# 创建输出目录\n",
    "output_dir = r\"filtered_logs1\"\n",
    "if not os.path.exists(output_dir):\n",
    "    os.makedirs(output_dir)\n",
    "\n",
    "for path in log_paths:\n",
    "    # print(path)\n",
    "    if os.path.exists(path):\n",
    "        # 获取目录名称\n",
    "        dir_name = os.path.basename(path)\n",
    "        # 创建对应的输出目录\n",
    "        new_dir = os.path.join(output_dir, dir_name)\n",
    "        if not os.path.exists(new_dir):\n",
    "            os.makedirs(new_dir)\n",
    "            \n",
    "        # 遍历源目录\n",
    "        for root, dirs, files in os.walk(path):\n",
    "            # 计算相对路径\n",
    "            if os.path.basename(root) == \"all_task\":\n",
    "                continue\n",
    "            rel_path = os.path.relpath(root, path)\n",
    "            # 在新目录中创建对应的子目录\n",
    "            target_dir = os.path.join(new_dir, rel_path)\n",
    "            if not os.path.exists(target_dir):\n",
    "                os.makedirs(target_dir)\n",
    "                \n",
    "            # 复制非图片文件\n",
    "            for file in files:\n",
    "                if not file.lower().endswith(('.png', '.jpg', '.jpeg', '.gif', '.bmp', '.csv', 'prompt.json', '.py', '.ipynb')):\n",
    "                    src_file = os.path.join(root, file)\n",
    "                    dst_file = os.path.join(target_dir, file)\n",
    "                    try:\n",
    "                        shutil.copy2(src_file, dst_file)\n",
    "                    except Exception as e:\n",
    "                        print(f\"Error copying {src_file} to {dst_file}: {e}\")\n"
   ]
  }
 ],
 "metadata": {
  "kernelspec": {
   "display_name": "Python 3",
   "language": "python",
   "name": "python3"
  },
  "language_info": {
   "codemirror_mode": {
    "name": "ipython",
    "version": 3
   },
   "file_extension": ".py",
   "mimetype": "text/x-python",
   "name": "python",
   "nbconvert_exporter": "python",
   "pygments_lexer": "ipython3",
   "version": "3.10.11"
  }
 },
 "nbformat": 4,
 "nbformat_minor": 2
}
